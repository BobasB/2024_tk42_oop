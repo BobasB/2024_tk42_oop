{
 "cells": [
  {
   "cell_type": "markdown",
   "metadata": {},
   "source": [
    "## Знайомство з Пайтон"
   ]
  },
  {
   "cell_type": "markdown",
   "metadata": {},
   "source": [
    "### Базові типи змінних\n",
    "- стрічкові змінні"
   ]
  },
  {
   "cell_type": "code",
   "execution_count": 1,
   "metadata": {},
   "outputs": [
    {
     "name": "stdout",
     "output_type": "stream",
     "text": [
      "Це стрічка!\n"
     ]
    },
    {
     "data": {
      "text/plain": [
       "'Це стрічка!'"
      ]
     },
     "execution_count": 1,
     "metadata": {},
     "output_type": "execute_result"
    }
   ],
   "source": [
    "a = \"Це стрічка!\"\n",
    "print(a)\n",
    "a # це буде виведено в комірці якщо не буде більше ніякого коду внизу"
   ]
  },
  {
   "cell_type": "code",
   "execution_count": 2,
   "metadata": {},
   "outputs": [
    {
     "name": "stdout",
     "output_type": "stream",
     "text": [
      "Це стрічка! Це також стрічка \n",
      "Стрічка \n",
      "яка складається\n",
      "з багатьох рядків\n",
      "\n"
     ]
    }
   ],
   "source": [
    "b = 'Це також стрічка'\n",
    "c = '''\n",
    "Стрічка \n",
    "яка складається\n",
    "з багатьох рядків\n",
    "'''\n",
    "print(a, b, c)"
   ]
  },
  {
   "cell_type": "markdown",
   "metadata": {},
   "source": [
    "будь-які змінні в Пайтон будуть обєктами і ми можемо викликати атрибути та методи які характерні для даного обєкту"
   ]
  },
  {
   "cell_type": "code",
   "execution_count": 3,
   "metadata": {},
   "outputs": [
    {
     "name": "stdout",
     "output_type": "stream",
     "text": [
      "<class 'str'>\n",
      "ЦЕ СТРІЧКА!\n"
     ]
    }
   ],
   "source": [
    "print(type(a))\n",
    "print(a.upper())"
   ]
  },
  {
   "cell_type": "markdown",
   "metadata": {},
   "source": [
    "стрічки можна зчеплювати одна з одною і така операція називається конкатенацією"
   ]
  },
  {
   "cell_type": "code",
   "execution_count": 4,
   "metadata": {},
   "outputs": [
    {
     "name": "stdout",
     "output_type": "stream",
     "text": [
      "36\n",
      "Це зчеплення стрічок 33\n",
      "Це вже математична операція додавання чисел 6\n"
     ]
    }
   ],
   "source": [
    "a = \"3\"\n",
    "b = \"6\"\n",
    "print(a + b)\n",
    "c = 3 # це вже цифра\n",
    "print(\"Це зчеплення стрічок\", a + str(c))\n",
    "print(\"Це вже математична операція додавання чисел\", int(a) + c)"
   ]
  },
  {
   "cell_type": "markdown",
   "metadata": {},
   "source": [
    "### Чисельні типи даних\n",
    "- int - цілочисельні дані\n",
    "- float - з плаваючою крапкою\n",
    "- при здійсненні арифметичних опереації де є float - результат також float\n",
    "- память яка виділяється комірці з змінною буде динамічно змінюватист"
   ]
  },
  {
   "cell_type": "code",
   "execution_count": 15,
   "metadata": {},
   "outputs": [
    {
     "name": "stdout",
     "output_type": "stream",
     "text": [
      "<class 'int'>\n",
      "<class 'float'>\n",
      "6 4.1\n",
      "32\n"
     ]
    }
   ],
   "source": [
    "i = 3\n",
    "print(type(i))\n",
    "j = 1.1\n",
    "print(type(j))\n",
    "print(3 + i, 3 + j)\n",
    "\n",
    "import sys\n",
    "i += 10000000000\n",
    "print(sys.getsizeof(i))"
   ]
  },
  {
   "cell_type": "markdown",
   "metadata": {},
   "source": [
    "### Арифметичні операції\n",
    "- базові `+ - * /`\n",
    "- `//` - ціла частка від ділення `%` - дробова частка від ділення `**` - піднесення до степеня"
   ]
  },
  {
   "cell_type": "code",
   "execution_count": 19,
   "metadata": {},
   "outputs": [
    {
     "name": "stdout",
     "output_type": "stream",
     "text": [
      "2.5 2 1\n",
      "9\n"
     ]
    }
   ],
   "source": [
    "print(5/2, 5//2, 5%2)\n",
    "print(3**2)"
   ]
  },
  {
   "cell_type": "markdown",
   "metadata": {},
   "source": [
    "### Колекції\n",
    "- найпростішою колекцією є `list`\n",
    "- накидана куча елементів, впорядкованих і кожен на своїх місцях\n",
    "- до кожного елемента ми можемо доступитись по індексу\n",
    "- в списках номерація починається з 0\n",
    "- відємні індекси, вказують на номерацію з кінця списку\n",
    "- ми можемо змінювати нас список\n",
    "- арифметичні операції над списками не працюють але можуть бути застосовані до елементів списку"
   ]
  },
  {
   "cell_type": "code",
   "execution_count": 23,
   "metadata": {},
   "outputs": [
    {
     "name": "stdout",
     "output_type": "stream",
     "text": [
      "1 2 [1, 'Один']\n",
      "['Початок', 1, '1', 'Два', [1, 'Один'], 6]\n"
     ]
    }
   ],
   "source": [
    "l = [1, \"1\", 2, \"2\", \"Два\", [1, \"Один\"]]\n",
    "print(l[0], l[3], l[-1])\n",
    "\n",
    "l.append(6)\n",
    "l.insert(0, \"Початок\")\n",
    "\n",
    "l.remove(\"2\")\n",
    "l.pop(3)\n",
    "\n",
    "print(l)"
   ]
  },
  {
   "cell_type": "markdown",
   "metadata": {},
   "source": [
    "- проімітуємо через списки здачу лабораторних студентами"
   ]
  },
  {
   "cell_type": "code",
   "execution_count": 26,
   "metadata": {},
   "outputs": [
    {
     "name": "stdout",
     "output_type": "stream",
     "text": [
      "Група студентів які здають роботи:  ['Ааа', 'Бббб', 'Cccc']\n",
      "Студенти які здали:  ['Ааа'] \n",
      "Студенти які залишились:  ['Бббб', 'Cccc']\n"
     ]
    }
   ],
   "source": [
    "s = [\"Ааа\", \"Бббб\", \"Cccc\"]\n",
    "print(\"Група студентів які здають роботи: \", s)\n",
    "\n",
    "s_pass = []\n",
    "\n",
    "s_pass.append(s.pop(0))\n",
    "\n",
    "print(\"Студенти які здали: \", s_pass, \"\\nСтуденти які залишились: \", s)"
   ]
  }
 ],
 "metadata": {
  "kernelspec": {
   "display_name": "Python 3",
   "language": "python",
   "name": "python3"
  },
  "language_info": {
   "codemirror_mode": {
    "name": "ipython",
    "version": 3
   },
   "file_extension": ".py",
   "mimetype": "text/x-python",
   "name": "python",
   "nbconvert_exporter": "python",
   "pygments_lexer": "ipython3",
   "version": "3.11.1"
  }
 },
 "nbformat": 4,
 "nbformat_minor": 2
}
