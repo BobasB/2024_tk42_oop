{
 "cells": [
  {
   "cell_type": "markdown",
   "metadata": {},
   "source": [
    "## Знайомство з Пайтон"
   ]
  },
  {
   "cell_type": "markdown",
   "metadata": {},
   "source": [
    "### Базові типи змінних\n",
    "- стрічкові змінні"
   ]
  },
  {
   "cell_type": "code",
   "execution_count": null,
   "metadata": {},
   "outputs": [],
   "source": [
    "a = \"Це стрічка!\"\n",
    "print(a)\n",
    "a # це буде виведено в комірці якщо не буде більше ніякого коду внизу"
   ]
  },
  {
   "cell_type": "code",
   "execution_count": null,
   "metadata": {},
   "outputs": [],
   "source": [
    "b = 'Це також стрічка'\n",
    "c = '''\n",
    "Стрічка \n",
    "яка складається\n",
    "з багатьох рядків\n",
    "'''\n",
    "print(a, b, c)"
   ]
  },
  {
   "cell_type": "markdown",
   "metadata": {},
   "source": [
    "будь-які змінні в Пайтон будуть обєктами і ми можемо викликати атрибути та методи які характерні для даного обєкту"
   ]
  },
  {
   "cell_type": "code",
   "execution_count": null,
   "metadata": {},
   "outputs": [],
   "source": [
    "print(type(a))\n",
    "print(a.upper())"
   ]
  },
  {
   "cell_type": "markdown",
   "metadata": {},
   "source": [
    "стрічки можна зчеплювати одна з одною і така операція називається конкатенацією"
   ]
  },
  {
   "cell_type": "code",
   "execution_count": null,
   "metadata": {},
   "outputs": [],
   "source": [
    "a = \"3\"\n",
    "b = \"6\"\n",
    "print(a + b)\n",
    "c = 3 # це вже цифра\n",
    "print(\"Це зчеплення стрічок\", a + str(c))\n",
    "print(\"Це вже математична операція додавання чисел\", int(a) + c)"
   ]
  },
  {
   "cell_type": "markdown",
   "metadata": {},
   "source": [
    "### Чисельні типи даних\n",
    "- int - цілочисельні дані\n",
    "- float - з плаваючою крапкою\n",
    "- при здійсненні арифметичних опереації де є float - результат також float\n",
    "- память яка виділяється комірці з змінною буде динамічно змінюватист"
   ]
  },
  {
   "cell_type": "code",
   "execution_count": null,
   "metadata": {},
   "outputs": [],
   "source": [
    "i = 3\n",
    "print(type(i))\n",
    "j = 1.1\n",
    "print(type(j))\n",
    "print(3 + i, 3 + j)\n",
    "\n",
    "import sys\n",
    "i += 10000000000\n",
    "print(sys.getsizeof(i))"
   ]
  },
  {
   "cell_type": "markdown",
   "metadata": {},
   "source": [
    "### Арифметичні операції\n",
    "- базові `+ - * /`\n",
    "- `//` - ціла частка від ділення `%` - дробова частка від ділення `**` - піднесення до степеня"
   ]
  },
  {
   "cell_type": "code",
   "execution_count": null,
   "metadata": {},
   "outputs": [],
   "source": [
    "print(5/2, 5//2, 5%2)\n",
    "print(3**2)"
   ]
  },
  {
   "cell_type": "markdown",
   "metadata": {},
   "source": [
    "### Колекції\n",
    "- найпростішою колекцією є `list`\n",
    "- накидана куча елементів, впорядкованих і кожен на своїх місцях\n",
    "- до кожного елемента ми можемо доступитись по індексу\n",
    "- в списках номерація починається з 0\n",
    "- відємні індекси, вказують на номерацію з кінця списку\n",
    "- ми можемо змінювати нас список\n",
    "- арифметичні операції над списками не працюють але можуть бути застосовані до елементів списку"
   ]
  },
  {
   "cell_type": "code",
   "execution_count": null,
   "metadata": {},
   "outputs": [],
   "source": [
    "l = [1, \"1\", 2, \"2\", \"Два\", [1, \"Один\"]]\n",
    "print(l[0], l[3], l[-1])\n",
    "\n",
    "l.append(6)\n",
    "l.insert(0, \"Початок\")\n",
    "\n",
    "l.remove(\"2\")\n",
    "l.pop(3)\n",
    "\n",
    "print(l)"
   ]
  },
  {
   "cell_type": "markdown",
   "metadata": {},
   "source": [
    "- проімітуємо через списки здачу лабораторних студентами"
   ]
  },
  {
   "cell_type": "code",
   "execution_count": null,
   "metadata": {},
   "outputs": [],
   "source": [
    "s = [\"Ааа\", \"Бббб\", \"Cccc\"]\n",
    "print(\"Група студентів які здають роботи: \", s)\n",
    "\n",
    "s_pass = []\n",
    "\n",
    "s_pass.append(s.pop(0))\n",
    "\n",
    "print(\"Студенти які здали: \", s_pass, \"\\nСтуденти які залишились: \", s)"
   ]
  },
  {
   "cell_type": "markdown",
   "metadata": {},
   "source": [
    "- `dict` - колекція даних де дані знаходяться на іменних позиціях, або так званих Ключ=Значення пар\n",
    "- доступ до даних здійснюється по ключах\n",
    "- ключі завжди повинні бути унікальними\n",
    "- словники є змінними, їх можна модифікувати"
   ]
  },
  {
   "cell_type": "code",
   "execution_count": null,
   "metadata": {},
   "outputs": [],
   "source": [
    "d = {\"name\": 1, 1: \"Один\", \"2\": 2}\n",
    "\n",
    "j = {\n",
    "    \"name\": \"Програма\",\n",
    "    \"version\": 1.2,\n",
    "    \"author\": \"Bohdan\",\n",
    "    \"author\": \"Богдан\"\n",
    "}\n",
    "\n",
    "print(d[\"2\"], j[\"author\"])\n",
    "print(j)\n",
    "\n",
    "import datetime\n",
    "j[\"date\"] = datetime.datetime.now()\n",
    "print(j)\n",
    "j[\"version\"] = 1.3\n",
    "j.pop(\"author\")\n",
    "\n",
    "print(j)"
   ]
  },
  {
   "cell_type": "markdown",
   "metadata": {},
   "source": [
    "- `tuple` - набір даних які не можна змінювати після їх створення\n",
    "- елементи є впорядкованими"
   ]
  },
  {
   "cell_type": "code",
   "execution_count": null,
   "metadata": {},
   "outputs": [],
   "source": [
    "t = (2, \"2\", 6, 8, 2, 6)\n",
    "\n",
    "print(t[0], \"Кількість двійок: \", t.count(2))\n",
    "\n",
    "l = list(t)\n",
    "l.pop(0)\n",
    "print(\"А тепре кількість 2: \", l.count(2))"
   ]
  },
  {
   "cell_type": "markdown",
   "metadata": {},
   "source": [
    "- `set` - колекція унікальних елементів (немає повторів)\n",
    "- дані тут невпорядковані і ми не можемо витягнути саме те що ми хочемо (тут немає індеків)"
   ]
  },
  {
   "cell_type": "code",
   "execution_count": null,
   "metadata": {},
   "outputs": [],
   "source": [
    "t = (2, \"2\", 6, 8, 2, 6)\n",
    "# знаходимо унікальні дані\n",
    "s = set(t)\n",
    "print(s)\n",
    "s.remove(6)\n",
    "print(s)"
   ]
  },
  {
   "cell_type": "markdown",
   "metadata": {},
   "source": [
    "### Розглядаємо вбудовані константи та функції\n",
    "- `None` є константа яка виражає відсутність значення\n",
    "- заререзвовані константи не можна перевизначати\n",
    "- дві булеві змінні True False є константами, і використовуються у логічних виразах\n",
    "- будь-яка величина в Пайтон вважається істинною, окрім `False`, `0`, `None`"
   ]
  },
  {
   "cell_type": "code",
   "execution_count": null,
   "metadata": {},
   "outputs": [],
   "source": [
    "def my_fun():\n",
    "    return\n",
    "\n",
    "print(my_fun())\n",
    "\n",
    "true = False\n",
    "print(\"Чому тут\", true)\n",
    "\n",
    "#None = False # це видасть помилку"
   ]
  },
  {
   "cell_type": "markdown",
   "metadata": {},
   "source": [
    "### Методи виводу\n",
    "- для виводу ми користувались вбудваною фінкцією print\n",
    "- ми передавали значення яке хочемо вивести"
   ]
  },
  {
   "cell_type": "code",
   "execution_count": null,
   "metadata": {},
   "outputs": [],
   "source": [
    "print(\"Ми\", \"хочемо\", \"вивести\", \"текст\")\n",
    "s = \"Ми\" + \" \" + \"хочемо\" + \" \" + \"вивести\" + \" \" + \"текст\"\n",
    "print(s)\n",
    "\n",
    "a = \"Ми\"\n",
    "b = \"хочемо\"\n",
    "c = \"вивести\"\n",
    "d = \"текст\"\n",
    "print(f\"{a} {b} {c} {d}\")"
   ]
  },
  {
   "cell_type": "markdown",
   "metadata": {},
   "source": [
    "### Знайомиммось з циклами\n",
    "- `while` - умовний цикл, який буде виконуватись поки умова є істинною\n",
    "- `for` - ітераційний цикл - нам наперед відомо скільки циклів потрібно зробити\n",
    "- в реальних ситуаціях немає різниці який  циклів використовувати\n",
    "- в нас є фабрика яка виробляє M&Ms і пакує в пачки по 30 штук. Коли ми беремо пачку ми починаємо їсти M&Ms і здієнаємось їх кольори. Написати програму яка імітує даний процес."
   ]
  },
  {
   "cell_type": "code",
   "execution_count": null,
   "metadata": {},
   "outputs": [],
   "source": [
    "mmd = [\"червоний\", \"жовтий\", \"синій\", \"зелений\", \"коричневий\", \"оранжевий\"]\n",
    "factory = mmd * 100\n",
    "print(f\"На фабриці втготовили {len(factory)} M&Ms {factory}\")\n",
    "from random import shuffle\n",
    "\n",
    "shuffle(factory)\n",
    "\n",
    "# розсортовуємо M&Ms по пачкам\n",
    "pack = []\n",
    "\n",
    "i = 0 \n",
    "while i < len(factory):\n",
    "    pack = factory[i:i+30]\n",
    "    print(f\"Посортували в пачку {len(pack)}: {pack}\")\n",
    "    i += 30"
   ]
  },
  {
   "cell_type": "code",
   "execution_count": null,
   "metadata": {},
   "outputs": [],
   "source": [
    "while pack:\n",
    "    print(f\"Витягуємо {pack.pop(0)} M&Ms і зїли!\")"
   ]
  },
  {
   "cell_type": "code",
   "execution_count": null,
   "metadata": {},
   "outputs": [],
   "source": [
    "np = int(len(factory) / 30) # скільки пачок вийде\n",
    "\n",
    "for i in range(np):\n",
    "    start = i*30\n",
    "    stop = start + 30\n",
    "    pack = factory[start:stop]\n",
    "    print(f\"Посортували в пачку {len(pack)}: {pack}\")"
   ]
  },
  {
   "cell_type": "code",
   "execution_count": null,
   "metadata": {},
   "outputs": [],
   "source": [
    "for m in pack:\n",
    "    print(f\"Витягуємо {m} M&Ms і зїли!\")"
   ]
  },
  {
   "cell_type": "markdown",
   "metadata": {},
   "source": [
    "- ми граємо в гру де потрібно кидати кубик. Нам дано 3 спроби щоб викинути число 6\n",
    "- для модифікації виконання циклу існує 2 функції:\n",
    "- `break` - зупиняє цикл і виходить з нього\n",
    "- `contunue` - перериває поточну ітерацю циклу і йде на початок виконувати наступну ітерацію"
   ]
  },
  {
   "cell_type": "code",
   "execution_count": null,
   "metadata": {},
   "outputs": [],
   "source": [
    "from random import randint\n",
    "\n",
    "for i in range(3):\n",
    "    dice = randint(1, 6)\n",
    "    print(f\"Кинули кубик і нам випало число: {dice}\")\n",
    "    if dice == 6:\n",
    "        print(\"Ура ми виграми!\")\n",
    "        break\n",
    "    else:\n",
    "        print(\"Спробуйте ще.\")\n",
    "    "
   ]
  },
  {
   "cell_type": "code",
   "execution_count": null,
   "metadata": {},
   "outputs": [],
   "source": [
    "i = 1\n",
    "dice = None\n",
    "\n",
    "while i <= 3 and dice != 6:\n",
    "    dice = randint(1, 6)\n",
    "    print(f\"Кинули кубик і нам випало число: {dice}\")\n",
    "    i += 1\n",
    "\n",
    "if dice == 6:\n",
    "    print(\"Ура ми виграми!\")\n",
    "else:\n",
    "    print(\"Використали всі спроби і програли.\")"
   ]
  },
  {
   "cell_type": "markdown",
   "metadata": {},
   "source": [
    "### Одностірчкові записи циклів\n",
    "- one-liners - дозволяють нам записати цикл не у канонічному вигляді а у вигляді однієї стрічки\n",
    "- такі записи можливі тільки коли ми створюмо Списки з використанням циклу `for`\n",
    "- не можемо таке робити з `while`"
   ]
  },
  {
   "cell_type": "code",
   "execution_count": null,
   "metadata": {},
   "outputs": [],
   "source": [
    "m = []\n",
    "for i in range(5):\n",
    "    m.append(f\"{i}) ітерація\")\n",
    "\n",
    "print(m)"
   ]
  },
  {
   "cell_type": "code",
   "execution_count": null,
   "metadata": {},
   "outputs": [],
   "source": [
    "m = [f\"{j}) ітерація\" for j in range(5)]\n",
    "\n",
    "print(m)\n",
    "\n",
    "k = [x**2 + 5*x + 2 for x in range(-10, 10)]\n",
    "print(k)"
   ]
  },
  {
   "cell_type": "code",
   "execution_count": null,
   "metadata": {},
   "outputs": [],
   "source": [
    "print(\"Ура ми виграми!\" if dice == 6 else \"Використали всі спроби і програли.\")"
   ]
  },
  {
   "cell_type": "markdown",
   "metadata": {},
   "source": [
    "### Розглядаємо виловлювання помилок\n",
    "- помилки можуть виникати, і нам ніщо не забороняє виконувати код з помилками\n",
    "- є помилки які не залежать від самої програми а залежать від якихось зовнішніх чинників\n",
    "- якщо ми знаємо що можливе виконання помилки нам потрібно якось її уникнути або опацювати так званий виняток\n",
    "- `finally` це дія яка виконається завжди не залежно від того чи є помилка чи ні\n",
    "\n",
    "```python\n",
    "True = 1\n",
    "# Це видасть помилку SyntaxError: cannot assign to True\n",
    "```"
   ]
  },
  {
   "cell_type": "code",
   "execution_count": null,
   "metadata": {},
   "outputs": [],
   "source": [
    "from random import randint\n",
    "\n",
    "for n in range(30):\n",
    "    x = randint(-10, 10)\n",
    "    try:\n",
    "        y = 7/x\n",
    "    except ZeroDivisionError as e:\n",
    "        # Це так званий обробник помилок\n",
    "        y = f\"Виникла помилка: {e}\"\n",
    "\n",
    "    print(f\"{n+1}) При діленні 7 на {x} буде: {y}\")"
   ]
  },
  {
   "cell_type": "code",
   "execution_count": null,
   "metadata": {},
   "outputs": [],
   "source": [
    "e = (ZeroDivisionError, TypeError, KeyError)\n",
    "x = 0\n",
    "try:\n",
    "    y = 7/x\n",
    "    d = {\"b\": 1}\n",
    "    d[\"a\"]\n",
    "except e as p:\n",
    "    print(f\"Обробляємо виникшу помилку: {p}!\")"
   ]
  },
  {
   "cell_type": "markdown",
   "metadata": {},
   "source": [
    "### Працюємо з контекст менеджерами\n",
    "- певні операції вимагають узгодженої взаємодії\n",
    "- найпростошою операцією є робота з файлами - відкрити модифікувати закрити"
   ]
  },
  {
   "cell_type": "code",
   "execution_count": null,
   "metadata": {},
   "outputs": [],
   "source": [
    "f = open(\"test.txt\", \"r\", encoding=\"utf-8\")\n",
    "print(f)\n",
    "print(f.readlines())\n",
    "f.close()\n",
    "\n",
    "f = open(\"test.txt\", \"w\", encoding=\"utf-8\")\n",
    "for i in range(5):\n",
    "    f.write(f\"{i}) Тут буде помилка\\n\")\n",
    "f.close()"
   ]
  },
  {
   "cell_type": "code",
   "execution_count": null,
   "metadata": {},
   "outputs": [],
   "source": [
    "with open(\"test.txt\", \"r\") as f:\n",
    "    for line in f.readlines():\n",
    "        print(f\"читаємо рядок: {line}\")\n",
    "# тут файл вже буде закритим\n",
    "#f.readline() #ValueError: I/O operation on closed file."
   ]
  }
 ],
 "metadata": {
  "kernelspec": {
   "display_name": "Python 3",
   "language": "python",
   "name": "python3"
  },
  "language_info": {
   "codemirror_mode": {
    "name": "ipython",
    "version": 3
   },
   "file_extension": ".py",
   "mimetype": "text/x-python",
   "name": "python",
   "nbconvert_exporter": "python",
   "pygments_lexer": "ipython3",
   "version": "3.12.3"
  }
 },
 "nbformat": 4,
 "nbformat_minor": 2
}
