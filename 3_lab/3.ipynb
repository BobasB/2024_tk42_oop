{
 "cells": [
  {
   "cell_type": "markdown",
   "metadata": {},
   "source": [
    "## Знайомство з ООП\n",
    "- чому ми використовуємо абстракції у вигляді класів та обктів замість просто написати код і передставити якесь явище або функціона який хочемо описати;\n",
    "- оскільки ми оперуємо якимись фізичними поняттями і хочумо описати їх тоді краще звернутись до ООП і придумати як саме ми хочемо відображати це явище;"
   ]
  },
  {
   "cell_type": "code",
   "execution_count": 1,
   "metadata": {},
   "outputs": [
    {
     "data": {
      "text/plain": [
       "<module 'my_file' from '/Users/bbuhyl/it_college/student/2024_tk42_oop/3_lab/my_file.py'>"
      ]
     },
     "execution_count": 1,
     "metadata": {},
     "output_type": "execute_result"
    }
   ],
   "source": [
    "###### Перезавантаження нашого класу через імпорти\n",
    "import importlib\n",
    "import my_file\n",
    "\n",
    "importlib.reload(my_file)\n",
    "###### Кожного разу запускаємо цю комірку коли роимо зміни у класі"
   ]
  },
  {
   "cell_type": "code",
   "execution_count": null,
   "metadata": {},
   "outputs": [],
   "source": [
    "phone = [\"Iphone\", \"15\", \"12Gb\"]\n",
    "phone1 = [\"Samsung\", \"Note 7\", \"20Gb\"]\n",
    "\n",
    "# із збільшенням кількості речей про які нас потрібно зирати інформацію, буде складніше\n",
    "# з ними працювати (буде багато змінних phone)\n",
    "\n",
    "phones = {\n",
    "    \"Виробник\": [\"Iphone\", \"Samsung\", \"Meizu\", \"Huawey\"],\n",
    "    \"Модель\": [[13, 16], \"Note 7\", \"M7\", \"Band\"],\n",
    "    \"RAM\": [\"12Gb\", \"20Gb\", \"16Gb\", \"11Gb\"]\n",
    "}\n",
    "\n",
    "for i in range(len(phones[\"Виробник\"])):\n",
    "    print(f\"Доступаємось до телефона: {phones[\"Виробник\"][i]}, {phones[\"Модель\"][i]}, {phones[\"RAM\"][i]}\")"
   ]
  },
  {
   "cell_type": "code",
   "execution_count": null,
   "metadata": {},
   "outputs": [],
   "source": [
    "from my_file import Phone\n",
    "\n",
    "i = Phone()\n",
    "# Тут ми задаємо так звані динамічні атрибути\n",
    "i.vendor = \"Iphone\"\n",
    "i.model = [13, 16]\n",
    "i.ram = \"12Gb\"\n",
    "\n",
    "s = Phone()\n",
    "# Тут ми задаємо так звані динамічні атрибути\n",
    "s.vendor = \"Samsung\"\n",
    "s.model = \"Note 7\"\n",
    "s.ram = \"20Gb\"\n",
    "s.made_in = \"Китай\"\n",
    "\n",
    "print(f\"Доступаємось до телефона: {i.vendor}, {i.model}, {i.ram}\")\n",
    "print(s.__dict__)\n",
    "print(i.__dict__)"
   ]
  },
  {
   "cell_type": "markdown",
   "metadata": {},
   "source": [
    "- при роботі з динамічними атрибутами, вони є непостійними поміж багатьома обєктами і це може призводити до некоректної роботи програм\n",
    "- якщо обєкт буде мати динамічний атрибут, це не гарантує що інші обєкти того самого класу також мають такий атрибут\n",
    "- щоб атрибути були постійними їх потрібно визначити в класі за допомогою функції яка називається `конструктором`\n",
    "- коли ми визначаємо якісь поля які будуть містити інформацію про обєкт вони називаються `атрибутами`, і ці поля будуть задаватись/ініціалізуватись у конструкторі"
   ]
  },
  {
   "cell_type": "code",
   "execution_count": null,
   "metadata": {},
   "outputs": [],
   "source": [
    "#print(f\"Доступаємось до телефона: {i.vendor}, {i.model}, {i.ram}, {i.made_id}\")"
   ]
  },
  {
   "cell_type": "code",
   "execution_count": null,
   "metadata": {},
   "outputs": [],
   "source": [
    "from my_file import PhoneWithAttributes\n",
    "\n",
    "ip = PhoneWithAttributes(\"Iphone\", [13, 16], 12)\n",
    "\n",
    "print(ip.__dict__) # всі атрибути є присутніми і сумісні з іншими обєктами\n",
    "\n",
    "sm = PhoneWithAttributes(\"Samsung\", \"Note 7\", 20, \"Китай\")\n",
    "\n",
    "print(sm.__dict__)\n",
    "\n",
    "for o in [ip, sm]:\n",
    "    print(f\"Доступаємось до телефона: {o.vendor}, {o.model}, {o.ram} який зроблений у {o.made_in}\")\n"
   ]
  },
  {
   "cell_type": "markdown",
   "metadata": {},
   "source": [
    "- існють різні типи атрибутів, і найперше це публічні атрибути\n",
    "- публічні та захищені атрибути можуть бути змінені\n",
    "- властивості дозволяють там створити незмінні атрибути, тобто такі які можна лише читати"
   ]
  },
  {
   "cell_type": "code",
   "execution_count": null,
   "metadata": {},
   "outputs": [],
   "source": [
    "print(ip._reserved_memory, sm._reserved_memory)\n",
    "\n",
    "ip._reserved_memory = 5\n",
    "\n",
    "print(ip._reserved_memory)\n",
    "\n",
    "print(ip.get_availabl_memory)\n",
    "# ip.get_availabl_memory = 6 # ми можемо тільки читати властивості але не змінювати їх\n",
    "\n",
    "ip.secret"
   ]
  },
  {
   "cell_type": "code",
   "execution_count": null,
   "metadata": {},
   "outputs": [],
   "source": [
    "from my_file import PhoneWithAttributes\n",
    "\n",
    "ip = PhoneWithAttributes(\"Iphone\", 13, 12)\n",
    "\n",
    "print(ip.__dict__)\n",
    "\n",
    "ip.call(\"097 000001\")\n",
    "ip.call(\"097 000002\")\n",
    "\n",
    "print(f\"Активних відеовикликів: {ip._video_calls}\")\n",
    "ip.stop_call()\n",
    "print(f\"Активних відеовикликів: {ip._video_calls}\")\n",
    "ip.stop_call()\n",
    "print(f\"Активних відеовикликів: {ip._video_calls}\")\n",
    "ip.stop_call()\n",
    "ip._video_calls"
   ]
  },
  {
   "cell_type": "markdown",
   "metadata": {},
   "source": [
    "### Класові змінні\n",
    "- використовуються в основному як лікчильники, або містять спільні дані для всіх обєктів класу"
   ]
  },
  {
   "cell_type": "markdown",
   "metadata": {},
   "source": [
    "### Статичні методи\n",
    "- не потрібно мати вказівник на обєкт `self`"
   ]
  },
  {
   "cell_type": "code",
   "execution_count": null,
   "metadata": {},
   "outputs": [],
   "source": [
    "from my_file import PhoneWithAttributes\n",
    "\n",
    "ip = PhoneWithAttributes(\"Iphone\", 13, 12)\n",
    "\n",
    "# статичні методи можуть бути викликані або з обєкта\n",
    "ip.sunny_weather(1,2)\n",
    "\n",
    "# або через клас, бо тут не потрібен обєкт (ми не передавали вказівник на обєкт) \n",
    "PhoneWithAttributes.sunny_weather(team_b=2)"
   ]
  },
  {
   "cell_type": "markdown",
   "metadata": {},
   "source": [
    "### Альтернативні конструктори"
   ]
  },
  {
   "cell_type": "code",
   "execution_count": 2,
   "metadata": {},
   "outputs": [
    {
     "data": {
      "text/plain": [
       "True"
      ]
     },
     "execution_count": 2,
     "metadata": {},
     "output_type": "execute_result"
    }
   ],
   "source": [
    "from my_file import PhoneWithAttributes\n",
    "\n",
    "ip = PhoneWithAttributes(\"Iphone\", 13, 12)\n",
    "\n",
    "ip2 = PhoneWithAttributes.create_from_vendor(\"Iphone\")\n",
    "\n",
    "ip.vendor == ip2.vendor"
   ]
  }
 ],
 "metadata": {
  "kernelspec": {
   "display_name": "Python 3",
   "language": "python",
   "name": "python3"
  },
  "language_info": {
   "codemirror_mode": {
    "name": "ipython",
    "version": 3
   },
   "file_extension": ".py",
   "mimetype": "text/x-python",
   "name": "python",
   "nbconvert_exporter": "python",
   "pygments_lexer": "ipython3",
   "version": "3.12.3"
  }
 },
 "nbformat": 4,
 "nbformat_minor": 2
}
