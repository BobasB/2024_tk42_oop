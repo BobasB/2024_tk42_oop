{
 "cells": [
  {
   "cell_type": "markdown",
   "metadata": {},
   "source": [
    "### Гра "
   ]
  },
  {
   "cell_type": "code",
   "execution_count": 1,
   "metadata": {},
   "outputs": [],
   "source": [
    "from random import randint\n",
    "\n",
    "class Item:\n",
    "    def __init__(self, name:str, damage:int, health:int):\n",
    "        self.name = name\n",
    "        self.damage = damage\n",
    "        self.health = health\n",
    "\n",
    "class Sword(Item):\n",
    "    def __init__(self, name, damage, health):\n",
    "        super().__init__(name, damage, health)\n",
    "        self.berserk = 0\n",
    "    \n",
    "    @property\n",
    "    def full_damage(self):\n",
    "        return self.damage + self.berserk\n",
    "    \n",
    "    def activate_ability(self):\n",
    "        print(\"Впадаємо в Берсерк\")\n",
    "        self.berserk = randint(1, 5)\n",
    "    \n",
    "    def hit(self, obj:Item):\n",
    "        obj.health -= self.full_damage\n",
    "        print(f\"Завдали удар {self.name} по {obj.name}, в якого залишилось {obj.health} здоровя\")\n",
    "        if obj.health <= 0:\n",
    "            print(f\"Ми повністю знесли здоровя {obj.name}. Ми перемогли!\")\n",
    "            return True\n",
    "        return False\n",
    "\n",
    "class Staff(Item):\n",
    "    def __init__(self, name, damage, health):\n",
    "        super().__init__(name, damage, health)\n",
    "        self.magical_damage = 0\n",
    "    \n",
    "    @property\n",
    "    def full_damage(self):\n",
    "        return self.damage + self.magical_damage\n",
    "    \n",
    "    def activate_ability(self):\n",
    "        print(\"Використовуємо вогняну магію\")\n",
    "        self.magical_damage = randint(2, 4)\n",
    "    \n",
    "    def hit(self, obj:Item):\n",
    "        obj.health -= self.full_damage\n",
    "        print(f\"Завдали удар {self.name} по {obj.name}, в якого залишилось {obj.health} здоровя\")\n",
    "        if obj.health <= 0:\n",
    "            print(f\"Ми повністю знесли здоровя {obj.name}. Ми перемогли!\")\n",
    "            return True\n",
    "        return False"
   ]
  },
  {
   "cell_type": "code",
   "execution_count": 9,
   "metadata": {},
   "outputs": [
    {
     "name": "stdout",
     "output_type": "stream",
     "text": [
      "Раунд: 0\n",
      "Впадаємо в Берсерк\n",
      "Завдали удар Екскалібур по Біфрост, в якого залишилось 82 здоровя\n",
      "Використовуємо вогняну магію\n",
      "Завдали удар Біфрост по Екскалібур, в якого залишилось 75 здоровя\n",
      "Раунд: 1\n",
      "Впадаємо в Берсерк\n",
      "Завдали удар Екскалібур по Біфрост, в якого залишилось 54 здоровя\n",
      "Використовуємо вогняну магію\n",
      "Завдали удар Біфрост по Екскалібур, в якого залишилось 48 здоровя\n",
      "Раунд: 2\n",
      "Впадаємо в Берсерк\n",
      "Завдали удар Екскалібур по Біфрост, в якого залишилось 28 здоровя\n",
      "Використовуємо вогняну магію\n",
      "Завдали удар Біфрост по Екскалібур, в якого залишилось 22 здоровя\n",
      "Раунд: 3\n",
      "Використовуємо вогняну магію\n",
      "Завдали удар Біфрост по Екскалібур, в якого залишилось -4 здоровя\n",
      "Ми повністю знесли здоровя Екскалібур. Ми перемогли!\n",
      "Виграв Біфрост\n"
     ]
    }
   ],
   "source": [
    "from random import shuffle\n",
    "\n",
    "#player1 = input(\"Введіть імя 1:\")\n",
    "e = Sword(\"Екскалібур\", 25, 101)\n",
    "\n",
    "#player2 = input(\"Введіть імя 2:\")\n",
    "b = Staff(\"Біфрост\", 24, 108)\n",
    "\n",
    "items = [e, b]\n",
    "\n",
    "for r in range(10):\n",
    "    print(f\"Раунд: {r}\")\n",
    "    shuffle(items)\n",
    "    \n",
    "    items[0].activate_ability()\n",
    "    if items[0].hit(items[1]):\n",
    "        print(f\"Виграв {items[0].name}\")\n",
    "        break\n",
    "\n",
    "    items[1].activate_ability()\n",
    "    if items[1].hit(items[0]):\n",
    "        print(f\"Виграв {items[1].name}\")\n",
    "        break\n"
   ]
  }
 ],
 "metadata": {
  "kernelspec": {
   "display_name": "Python 3",
   "language": "python",
   "name": "python3"
  },
  "language_info": {
   "codemirror_mode": {
    "name": "ipython",
    "version": 3
   },
   "file_extension": ".py",
   "mimetype": "text/x-python",
   "name": "python",
   "nbconvert_exporter": "python",
   "pygments_lexer": "ipython3",
   "version": "3.12.3"
  }
 },
 "nbformat": 4,
 "nbformat_minor": 2
}
